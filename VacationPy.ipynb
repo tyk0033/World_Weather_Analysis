{
 "cells": [
  {
   "cell_type": "code",
   "execution_count": 27,
   "id": "3e1bb61d",
   "metadata": {},
   "outputs": [],
   "source": [
    "# Import the dependencies.\n",
    "import pandas as pd\n",
    "import gmaps\n",
    "import requests\n",
    "# Import the API key.\n",
    "from config import g_key"
   ]
  },
  {
   "cell_type": "code",
   "execution_count": 28,
   "id": "789e0f0e",
   "metadata": {},
   "outputs": [
    {
     "data": {
      "text/html": [
       "<div>\n",
       "<style scoped>\n",
       "    .dataframe tbody tr th:only-of-type {\n",
       "        vertical-align: middle;\n",
       "    }\n",
       "\n",
       "    .dataframe tbody tr th {\n",
       "        vertical-align: top;\n",
       "    }\n",
       "\n",
       "    .dataframe thead th {\n",
       "        text-align: right;\n",
       "    }\n",
       "</style>\n",
       "<table border=\"1\" class=\"dataframe\">\n",
       "  <thead>\n",
       "    <tr style=\"text-align: right;\">\n",
       "      <th></th>\n",
       "      <th>City_ID</th>\n",
       "      <th>City</th>\n",
       "      <th>Lat</th>\n",
       "      <th>Lng</th>\n",
       "      <th>Max Temp</th>\n",
       "      <th>Humidity</th>\n",
       "      <th>Cloudiness</th>\n",
       "      <th>Wind Speed</th>\n",
       "      <th>Country</th>\n",
       "      <th>Date</th>\n",
       "    </tr>\n",
       "  </thead>\n",
       "  <tbody>\n",
       "    <tr>\n",
       "      <th>0</th>\n",
       "      <td>0</td>\n",
       "      <td>Ahipara</td>\n",
       "      <td>-35.1667</td>\n",
       "      <td>173.1667</td>\n",
       "      <td>58.06</td>\n",
       "      <td>61</td>\n",
       "      <td>8</td>\n",
       "      <td>3.11</td>\n",
       "      <td>NZ</td>\n",
       "      <td>2022-07-03 03:44:39</td>\n",
       "    </tr>\n",
       "    <tr>\n",
       "      <th>1</th>\n",
       "      <td>1</td>\n",
       "      <td>Hilo</td>\n",
       "      <td>19.7297</td>\n",
       "      <td>-155.0900</td>\n",
       "      <td>77.61</td>\n",
       "      <td>88</td>\n",
       "      <td>71</td>\n",
       "      <td>1.01</td>\n",
       "      <td>US</td>\n",
       "      <td>2022-07-03 03:54:27</td>\n",
       "    </tr>\n",
       "    <tr>\n",
       "      <th>2</th>\n",
       "      <td>2</td>\n",
       "      <td>La Asuncion</td>\n",
       "      <td>11.0333</td>\n",
       "      <td>-63.8628</td>\n",
       "      <td>87.53</td>\n",
       "      <td>70</td>\n",
       "      <td>49</td>\n",
       "      <td>13.80</td>\n",
       "      <td>VE</td>\n",
       "      <td>2022-07-03 03:54:28</td>\n",
       "    </tr>\n",
       "    <tr>\n",
       "      <th>3</th>\n",
       "      <td>3</td>\n",
       "      <td>Kokkola</td>\n",
       "      <td>63.8385</td>\n",
       "      <td>23.1307</td>\n",
       "      <td>63.93</td>\n",
       "      <td>94</td>\n",
       "      <td>0</td>\n",
       "      <td>10.36</td>\n",
       "      <td>FI</td>\n",
       "      <td>2022-07-03 03:54:28</td>\n",
       "    </tr>\n",
       "    <tr>\n",
       "      <th>4</th>\n",
       "      <td>4</td>\n",
       "      <td>Mar Del Plata</td>\n",
       "      <td>-38.0023</td>\n",
       "      <td>-57.5575</td>\n",
       "      <td>39.94</td>\n",
       "      <td>75</td>\n",
       "      <td>0</td>\n",
       "      <td>2.30</td>\n",
       "      <td>AR</td>\n",
       "      <td>2022-07-03 03:54:29</td>\n",
       "    </tr>\n",
       "  </tbody>\n",
       "</table>\n",
       "</div>"
      ],
      "text/plain": [
       "   City_ID           City      Lat       Lng  Max Temp  Humidity  Cloudiness  \\\n",
       "0        0        Ahipara -35.1667  173.1667     58.06        61           8   \n",
       "1        1           Hilo  19.7297 -155.0900     77.61        88          71   \n",
       "2        2    La Asuncion  11.0333  -63.8628     87.53        70          49   \n",
       "3        3        Kokkola  63.8385   23.1307     63.93        94           0   \n",
       "4        4  Mar Del Plata -38.0023  -57.5575     39.94        75           0   \n",
       "\n",
       "   Wind Speed Country                 Date  \n",
       "0        3.11      NZ  2022-07-03 03:44:39  \n",
       "1        1.01      US  2022-07-03 03:54:27  \n",
       "2       13.80      VE  2022-07-03 03:54:28  \n",
       "3       10.36      FI  2022-07-03 03:54:28  \n",
       "4        2.30      AR  2022-07-03 03:54:29  "
      ]
     },
     "execution_count": 28,
     "metadata": {},
     "output_type": "execute_result"
    }
   ],
   "source": [
    "# Store the CSV you saved created in part one into a DataFrame.\n",
    "city_data_df = pd.read_csv(\"weather_data/cities.csv\")\n",
    "city_data_df.head()"
   ]
  },
  {
   "cell_type": "code",
   "execution_count": 29,
   "id": "57bafb58",
   "metadata": {},
   "outputs": [
    {
     "data": {
      "text/plain": [
       "City_ID         int64\n",
       "City           object\n",
       "Lat           float64\n",
       "Lng           float64\n",
       "Max Temp      float64\n",
       "Humidity        int64\n",
       "Cloudiness      int64\n",
       "Wind Speed    float64\n",
       "Country        object\n",
       "Date           object\n",
       "dtype: object"
      ]
     },
     "execution_count": 29,
     "metadata": {},
     "output_type": "execute_result"
    }
   ],
   "source": [
    "city_data_df.dtypes"
   ]
  },
  {
   "cell_type": "code",
   "execution_count": 30,
   "id": "1c658f9a",
   "metadata": {},
   "outputs": [],
   "source": [
    "# Configure gmaps to use your Google API key.\n",
    "gmaps.configure(api_key=g_key)"
   ]
  },
  {
   "cell_type": "code",
   "execution_count": 31,
   "id": "a66f4a42",
   "metadata": {},
   "outputs": [
    {
     "data": {
      "application/vnd.jupyter.widget-view+json": {
       "model_id": "3e86385120aa45469513f31dd13cd283",
       "version_major": 2,
       "version_minor": 0
      },
      "text/plain": [
       "Figure(layout=FigureLayout(height='420px'))"
      ]
     },
     "metadata": {},
     "output_type": "display_data"
    }
   ],
   "source": [
    "# Heatmap of temperature\n",
    "# Get the latitude and longitude.\n",
    "locations = city_data_df[[\"Lat\", \"Lng\"]]\n",
    "# Get the maximum temperature.\n",
    "max_temp = city_data_df[\"Max Temp\"]\n",
    "# Assign the figure variable.\n",
    "fig = gmaps.figure()\n",
    "# Assign the heatmap variable.\n",
    "heat_layer = gmaps.heatmap_layer(locations, weights=max_temp)\n",
    "# Add the heatmap layer.\n",
    "fig.add_layer(heat_layer)\n",
    "# Call the figure to plot the data.\n",
    "fig"
   ]
  },
  {
   "cell_type": "code",
   "execution_count": 32,
   "id": "d84ac94f",
   "metadata": {},
   "outputs": [],
   "source": [
    "heat_layer = gmaps.heatmap_layer(locations, weights=max_temp)\n"
   ]
  },
  {
   "cell_type": "code",
   "execution_count": 33,
   "id": "f8f35b3b",
   "metadata": {},
   "outputs": [],
   "source": [
    "# Get the maximum temperature.\n",
    "max_temp = city_data_df[\"Max Temp\"]\n",
    "temps = []\n",
    "for temp in max_temp:\n",
    "    temps.append(max(temp, 0))"
   ]
  },
  {
   "cell_type": "code",
   "execution_count": 34,
   "id": "62926988",
   "metadata": {},
   "outputs": [],
   "source": [
    "heat_layer = gmaps.heatmap_layer(locations, weights=[max(temp, 0) for temp in max_temp])\n",
    "\n"
   ]
  },
  {
   "cell_type": "code",
   "execution_count": 35,
   "id": "16051c5f",
   "metadata": {},
   "outputs": [
    {
     "data": {
      "application/vnd.jupyter.widget-view+json": {
       "model_id": "3e86385120aa45469513f31dd13cd283",
       "version_major": 2,
       "version_minor": 0
      },
      "text/plain": [
       "Figure(layout=FigureLayout(height='420px'))"
      ]
     },
     "metadata": {},
     "output_type": "display_data"
    }
   ],
   "source": [
    "heat_layer = gmaps.heatmap_layer(locations, weights=[max(temp, 0) for temp in max_temp], dissipating=False, max_intensity=300, point_radius=4)\n",
    "fig.add_layer(heat_layer)\n",
    "\n",
    "fig"
   ]
  },
  {
   "cell_type": "code",
   "execution_count": 36,
   "id": "638f1f75",
   "metadata": {},
   "outputs": [
    {
     "data": {
      "application/vnd.jupyter.widget-view+json": {
       "model_id": "911c0a924a2b4ad49773d1d5f59350ec",
       "version_major": 2,
       "version_minor": 0
      },
      "text/plain": [
       "Figure(layout=FigureLayout(height='420px'))"
      ]
     },
     "metadata": {},
     "output_type": "display_data"
    }
   ],
   "source": [
    "# Heatmap of percent humidity\n",
    "locations = city_data_df[[\"Lat\", \"Lng\"]]\n",
    "humidity = city_data_df[\"Humidity\"]\n",
    "fig = gmaps.figure(center=(30.0, 31.0), zoom_level=1.5)\n",
    "heat_layer = gmaps.heatmap_layer(locations, weights=humidity, dissipating=False, max_intensity=300, point_radius=4)\n",
    "\n",
    "fig.add_layer(heat_layer)\n",
    "# Call the figure to plot the data.\n",
    "fig"
   ]
  },
  {
   "cell_type": "code",
   "execution_count": 37,
   "id": "8d087b84",
   "metadata": {},
   "outputs": [
    {
     "data": {
      "application/vnd.jupyter.widget-view+json": {
       "model_id": "a34b185db7b84a96b176245e89a26528",
       "version_major": 2,
       "version_minor": 0
      },
      "text/plain": [
       "Figure(layout=FigureLayout(height='420px'))"
      ]
     },
     "metadata": {},
     "output_type": "display_data"
    }
   ],
   "source": [
    "# Heatmap of Cloudiness\n",
    "# Get the latitude and longitude.\n",
    "locations = city_data_df[[\"Lat\", \"Lng\"]]\n",
    "# Get the maximum temperature.\n",
    "clouds = city_data_df[\"Cloudiness\"]\n",
    "# Assign the figure variable.\n",
    "fig = gmaps.figure()\n",
    "# Assign the heatmap variable.\n",
    "heat_layer = gmaps.heatmap_layer(locations, weights=clouds)\n",
    "# Add the heatmap layer.\n",
    "fig.add_layer(heat_layer)\n",
    "# Call the figure to plot the data.\n",
    "fig"
   ]
  },
  {
   "cell_type": "code",
   "execution_count": 38,
   "id": "f46ce977",
   "metadata": {},
   "outputs": [
    {
     "data": {
      "application/vnd.jupyter.widget-view+json": {
       "model_id": "8462f9f036eb4813a8a489b51c3c623e",
       "version_major": 2,
       "version_minor": 0
      },
      "text/plain": [
       "Figure(layout=FigureLayout(height='420px'))"
      ]
     },
     "metadata": {},
     "output_type": "display_data"
    }
   ],
   "source": [
    "# Heatmap of Windspeed\n",
    "# Get the latitude and longitude.\n",
    "locations = city_data_df[[\"Lat\", \"Lng\"]]\n",
    "# Get the maximum temperature.\n",
    "wind = city_data_df[\"Wind Speed\"]\n",
    "# Assign the figure variable.\n",
    "fig = gmaps.figure()\n",
    "# Assign the heatmap variable.\n",
    "heat_layer = gmaps.heatmap_layer(locations, weights=wind)\n",
    "# Add the heatmap layer.\n",
    "fig.add_layer(heat_layer)\n",
    "# Call the figure to plot the data.\n",
    "fig"
   ]
  },
  {
   "cell_type": "code",
   "execution_count": 39,
   "id": "321266e2",
   "metadata": {},
   "outputs": [
    {
     "name": "stdout",
     "output_type": "stream",
     "text": [
      "What is the minimum temperature you would like for your trip? 75\n",
      "What is the maximum temperature you would like for your trip? 90\n"
     ]
    }
   ],
   "source": [
    "# Ask the customer to add a minimum and maximum temperature value.\n",
    "min_temp = float(input(\"What is the minimum temperature you would like for your trip? \"))\n",
    "max_temp = float(input(\"What is the maximum temperature you would like for your trip? \"))\n"
   ]
  },
  {
   "cell_type": "code",
   "execution_count": 45,
   "id": "ff1a963d",
   "metadata": {},
   "outputs": [
    {
     "data": {
      "text/html": [
       "<div>\n",
       "<style scoped>\n",
       "    .dataframe tbody tr th:only-of-type {\n",
       "        vertical-align: middle;\n",
       "    }\n",
       "\n",
       "    .dataframe tbody tr th {\n",
       "        vertical-align: top;\n",
       "    }\n",
       "\n",
       "    .dataframe thead th {\n",
       "        text-align: right;\n",
       "    }\n",
       "</style>\n",
       "<table border=\"1\" class=\"dataframe\">\n",
       "  <thead>\n",
       "    <tr style=\"text-align: right;\">\n",
       "      <th></th>\n",
       "      <th>City_ID</th>\n",
       "      <th>City</th>\n",
       "      <th>Lat</th>\n",
       "      <th>Lng</th>\n",
       "      <th>Max Temp</th>\n",
       "      <th>Humidity</th>\n",
       "      <th>Cloudiness</th>\n",
       "      <th>Wind Speed</th>\n",
       "      <th>Country</th>\n",
       "      <th>Date</th>\n",
       "    </tr>\n",
       "  </thead>\n",
       "  <tbody>\n",
       "    <tr>\n",
       "      <th>1</th>\n",
       "      <td>1</td>\n",
       "      <td>Hilo</td>\n",
       "      <td>19.7297</td>\n",
       "      <td>-155.0900</td>\n",
       "      <td>77.61</td>\n",
       "      <td>88</td>\n",
       "      <td>71</td>\n",
       "      <td>1.01</td>\n",
       "      <td>US</td>\n",
       "      <td>2022-07-03 03:54:27</td>\n",
       "    </tr>\n",
       "    <tr>\n",
       "      <th>2</th>\n",
       "      <td>2</td>\n",
       "      <td>La Asuncion</td>\n",
       "      <td>11.0333</td>\n",
       "      <td>-63.8628</td>\n",
       "      <td>87.53</td>\n",
       "      <td>70</td>\n",
       "      <td>49</td>\n",
       "      <td>13.80</td>\n",
       "      <td>VE</td>\n",
       "      <td>2022-07-03 03:54:28</td>\n",
       "    </tr>\n",
       "    <tr>\n",
       "      <th>5</th>\n",
       "      <td>5</td>\n",
       "      <td>Kapaa</td>\n",
       "      <td>22.0752</td>\n",
       "      <td>-159.3190</td>\n",
       "      <td>78.12</td>\n",
       "      <td>79</td>\n",
       "      <td>100</td>\n",
       "      <td>8.01</td>\n",
       "      <td>US</td>\n",
       "      <td>2022-07-03 03:54:29</td>\n",
       "    </tr>\n",
       "    <tr>\n",
       "      <th>11</th>\n",
       "      <td>11</td>\n",
       "      <td>Mitsamiouli</td>\n",
       "      <td>-11.3847</td>\n",
       "      <td>43.2844</td>\n",
       "      <td>77.29</td>\n",
       "      <td>61</td>\n",
       "      <td>40</td>\n",
       "      <td>19.57</td>\n",
       "      <td>KM</td>\n",
       "      <td>2022-07-03 03:54:31</td>\n",
       "    </tr>\n",
       "    <tr>\n",
       "      <th>12</th>\n",
       "      <td>12</td>\n",
       "      <td>Hami</td>\n",
       "      <td>42.8000</td>\n",
       "      <td>93.4500</td>\n",
       "      <td>88.83</td>\n",
       "      <td>19</td>\n",
       "      <td>100</td>\n",
       "      <td>4.88</td>\n",
       "      <td>CN</td>\n",
       "      <td>2022-07-03 03:47:15</td>\n",
       "    </tr>\n",
       "    <tr>\n",
       "      <th>13</th>\n",
       "      <td>13</td>\n",
       "      <td>Jacareacanga</td>\n",
       "      <td>-6.2222</td>\n",
       "      <td>-57.7528</td>\n",
       "      <td>75.51</td>\n",
       "      <td>77</td>\n",
       "      <td>81</td>\n",
       "      <td>1.21</td>\n",
       "      <td>BR</td>\n",
       "      <td>2022-07-03 03:54:32</td>\n",
       "    </tr>\n",
       "    <tr>\n",
       "      <th>16</th>\n",
       "      <td>16</td>\n",
       "      <td>Meulaboh</td>\n",
       "      <td>4.1363</td>\n",
       "      <td>96.1285</td>\n",
       "      <td>83.26</td>\n",
       "      <td>67</td>\n",
       "      <td>90</td>\n",
       "      <td>3.15</td>\n",
       "      <td>ID</td>\n",
       "      <td>2022-07-03 03:54:33</td>\n",
       "    </tr>\n",
       "    <tr>\n",
       "      <th>20</th>\n",
       "      <td>20</td>\n",
       "      <td>Vaini</td>\n",
       "      <td>-21.2000</td>\n",
       "      <td>-175.2000</td>\n",
       "      <td>75.36</td>\n",
       "      <td>78</td>\n",
       "      <td>75</td>\n",
       "      <td>9.22</td>\n",
       "      <td>TO</td>\n",
       "      <td>2022-07-03 03:54:34</td>\n",
       "    </tr>\n",
       "    <tr>\n",
       "      <th>25</th>\n",
       "      <td>25</td>\n",
       "      <td>Nago</td>\n",
       "      <td>26.5881</td>\n",
       "      <td>127.9761</td>\n",
       "      <td>77.45</td>\n",
       "      <td>86</td>\n",
       "      <td>100</td>\n",
       "      <td>13.71</td>\n",
       "      <td>JP</td>\n",
       "      <td>2022-07-03 03:50:17</td>\n",
       "    </tr>\n",
       "    <tr>\n",
       "      <th>28</th>\n",
       "      <td>28</td>\n",
       "      <td>Hithadhoo</td>\n",
       "      <td>-0.6000</td>\n",
       "      <td>73.0833</td>\n",
       "      <td>84.09</td>\n",
       "      <td>71</td>\n",
       "      <td>99</td>\n",
       "      <td>9.82</td>\n",
       "      <td>MV</td>\n",
       "      <td>2022-07-03 03:54:37</td>\n",
       "    </tr>\n",
       "  </tbody>\n",
       "</table>\n",
       "</div>"
      ],
      "text/plain": [
       "    City_ID          City      Lat       Lng  Max Temp  Humidity  Cloudiness  \\\n",
       "1         1          Hilo  19.7297 -155.0900     77.61        88          71   \n",
       "2         2   La Asuncion  11.0333  -63.8628     87.53        70          49   \n",
       "5         5         Kapaa  22.0752 -159.3190     78.12        79         100   \n",
       "11       11   Mitsamiouli -11.3847   43.2844     77.29        61          40   \n",
       "12       12          Hami  42.8000   93.4500     88.83        19         100   \n",
       "13       13  Jacareacanga  -6.2222  -57.7528     75.51        77          81   \n",
       "16       16      Meulaboh   4.1363   96.1285     83.26        67          90   \n",
       "20       20         Vaini -21.2000 -175.2000     75.36        78          75   \n",
       "25       25          Nago  26.5881  127.9761     77.45        86         100   \n",
       "28       28     Hithadhoo  -0.6000   73.0833     84.09        71          99   \n",
       "\n",
       "    Wind Speed Country                 Date  \n",
       "1         1.01      US  2022-07-03 03:54:27  \n",
       "2        13.80      VE  2022-07-03 03:54:28  \n",
       "5         8.01      US  2022-07-03 03:54:29  \n",
       "11       19.57      KM  2022-07-03 03:54:31  \n",
       "12        4.88      CN  2022-07-03 03:47:15  \n",
       "13        1.21      BR  2022-07-03 03:54:32  \n",
       "16        3.15      ID  2022-07-03 03:54:33  \n",
       "20        9.22      TO  2022-07-03 03:54:34  \n",
       "25       13.71      JP  2022-07-03 03:50:17  \n",
       "28        9.82      MV  2022-07-03 03:54:37  "
      ]
     },
     "execution_count": 45,
     "metadata": {},
     "output_type": "execute_result"
    }
   ],
   "source": [
    "# Filter the dataset to find the cities that fit the criteria.\n",
    "preferred_cities_df = city_data_df.loc[(city_data_df[\"Max Temp\"] <= max_temp) & \\\n",
    "                                       (city_data_df[\"Max Temp\"] >= min_temp)]\n",
    "preferred_cities_df.head(10)"
   ]
  },
  {
   "cell_type": "code",
   "execution_count": 46,
   "id": "8674be0f",
   "metadata": {},
   "outputs": [
    {
     "data": {
      "text/plain": [
       "City_ID       205\n",
       "City          205\n",
       "Lat           205\n",
       "Lng           205\n",
       "Max Temp      205\n",
       "Humidity      205\n",
       "Cloudiness    205\n",
       "Wind Speed    205\n",
       "Country       205\n",
       "Date          205\n",
       "dtype: int64"
      ]
     },
     "execution_count": 46,
     "metadata": {},
     "output_type": "execute_result"
    }
   ],
   "source": [
    "preferred_cities_df.count()\n"
   ]
  },
  {
   "cell_type": "code",
   "execution_count": 47,
   "id": "5cba7d0b",
   "metadata": {},
   "outputs": [
    {
     "data": {
      "text/html": [
       "<div>\n",
       "<style scoped>\n",
       "    .dataframe tbody tr th:only-of-type {\n",
       "        vertical-align: middle;\n",
       "    }\n",
       "\n",
       "    .dataframe tbody tr th {\n",
       "        vertical-align: top;\n",
       "    }\n",
       "\n",
       "    .dataframe thead th {\n",
       "        text-align: right;\n",
       "    }\n",
       "</style>\n",
       "<table border=\"1\" class=\"dataframe\">\n",
       "  <thead>\n",
       "    <tr style=\"text-align: right;\">\n",
       "      <th></th>\n",
       "      <th>City</th>\n",
       "      <th>Country</th>\n",
       "      <th>Max Temp</th>\n",
       "      <th>Lat</th>\n",
       "      <th>Lng</th>\n",
       "      <th>Hotel Name</th>\n",
       "    </tr>\n",
       "  </thead>\n",
       "  <tbody>\n",
       "    <tr>\n",
       "      <th>1</th>\n",
       "      <td>Hilo</td>\n",
       "      <td>US</td>\n",
       "      <td>77.61</td>\n",
       "      <td>19.7297</td>\n",
       "      <td>-155.0900</td>\n",
       "      <td></td>\n",
       "    </tr>\n",
       "    <tr>\n",
       "      <th>2</th>\n",
       "      <td>La Asuncion</td>\n",
       "      <td>VE</td>\n",
       "      <td>87.53</td>\n",
       "      <td>11.0333</td>\n",
       "      <td>-63.8628</td>\n",
       "      <td></td>\n",
       "    </tr>\n",
       "    <tr>\n",
       "      <th>5</th>\n",
       "      <td>Kapaa</td>\n",
       "      <td>US</td>\n",
       "      <td>78.12</td>\n",
       "      <td>22.0752</td>\n",
       "      <td>-159.3190</td>\n",
       "      <td></td>\n",
       "    </tr>\n",
       "    <tr>\n",
       "      <th>11</th>\n",
       "      <td>Mitsamiouli</td>\n",
       "      <td>KM</td>\n",
       "      <td>77.29</td>\n",
       "      <td>-11.3847</td>\n",
       "      <td>43.2844</td>\n",
       "      <td></td>\n",
       "    </tr>\n",
       "    <tr>\n",
       "      <th>12</th>\n",
       "      <td>Hami</td>\n",
       "      <td>CN</td>\n",
       "      <td>88.83</td>\n",
       "      <td>42.8000</td>\n",
       "      <td>93.4500</td>\n",
       "      <td></td>\n",
       "    </tr>\n",
       "    <tr>\n",
       "      <th>13</th>\n",
       "      <td>Jacareacanga</td>\n",
       "      <td>BR</td>\n",
       "      <td>75.51</td>\n",
       "      <td>-6.2222</td>\n",
       "      <td>-57.7528</td>\n",
       "      <td></td>\n",
       "    </tr>\n",
       "    <tr>\n",
       "      <th>16</th>\n",
       "      <td>Meulaboh</td>\n",
       "      <td>ID</td>\n",
       "      <td>83.26</td>\n",
       "      <td>4.1363</td>\n",
       "      <td>96.1285</td>\n",
       "      <td></td>\n",
       "    </tr>\n",
       "    <tr>\n",
       "      <th>20</th>\n",
       "      <td>Vaini</td>\n",
       "      <td>TO</td>\n",
       "      <td>75.36</td>\n",
       "      <td>-21.2000</td>\n",
       "      <td>-175.2000</td>\n",
       "      <td></td>\n",
       "    </tr>\n",
       "    <tr>\n",
       "      <th>25</th>\n",
       "      <td>Nago</td>\n",
       "      <td>JP</td>\n",
       "      <td>77.45</td>\n",
       "      <td>26.5881</td>\n",
       "      <td>127.9761</td>\n",
       "      <td></td>\n",
       "    </tr>\n",
       "    <tr>\n",
       "      <th>28</th>\n",
       "      <td>Hithadhoo</td>\n",
       "      <td>MV</td>\n",
       "      <td>84.09</td>\n",
       "      <td>-0.6000</td>\n",
       "      <td>73.0833</td>\n",
       "      <td></td>\n",
       "    </tr>\n",
       "  </tbody>\n",
       "</table>\n",
       "</div>"
      ],
      "text/plain": [
       "            City Country  Max Temp      Lat       Lng Hotel Name\n",
       "1           Hilo      US     77.61  19.7297 -155.0900           \n",
       "2    La Asuncion      VE     87.53  11.0333  -63.8628           \n",
       "5          Kapaa      US     78.12  22.0752 -159.3190           \n",
       "11   Mitsamiouli      KM     77.29 -11.3847   43.2844           \n",
       "12          Hami      CN     88.83  42.8000   93.4500           \n",
       "13  Jacareacanga      BR     75.51  -6.2222  -57.7528           \n",
       "16      Meulaboh      ID     83.26   4.1363   96.1285           \n",
       "20         Vaini      TO     75.36 -21.2000 -175.2000           \n",
       "25          Nago      JP     77.45  26.5881  127.9761           \n",
       "28     Hithadhoo      MV     84.09  -0.6000   73.0833           "
      ]
     },
     "execution_count": 47,
     "metadata": {},
     "output_type": "execute_result"
    }
   ],
   "source": [
    "# Create DataFrame called hotel_df to store hotel names along with city, country, max temp, and coordinates.\n",
    "hotel_df = preferred_cities_df[[\"City\", \"Country\", \"Max Temp\", \"Lat\", \"Lng\"]].copy()\n",
    "hotel_df[\"Hotel Name\"] = \"\"\n",
    "hotel_df.head(10)"
   ]
  },
  {
   "cell_type": "code",
   "execution_count": 48,
   "id": "533b3b29",
   "metadata": {},
   "outputs": [],
   "source": [
    "# Set parameters to search for a hotel.\n",
    "params = {\n",
    "    \"radius\": 5000,\n",
    "    \"type\": \"lodging\",\n",
    "    \"key\": g_key\n",
    "}"
   ]
  },
  {
   "cell_type": "code",
   "execution_count": 62,
   "id": "90b2e6a2",
   "metadata": {},
   "outputs": [
    {
     "name": "stdout",
     "output_type": "stream",
     "text": [
      "Hotel not found... skipping.\n",
      "Hotel not found... skipping.\n",
      "Hotel not found... skipping.\n",
      "Hotel not found... skipping.\n",
      "Hotel not found... skipping.\n",
      "Hotel not found... skipping.\n",
      "Hotel not found... skipping.\n",
      "Hotel not found... skipping.\n",
      "Hotel not found... skipping.\n",
      "Hotel not found... skipping.\n",
      "Hotel not found... skipping.\n",
      "Hotel not found... skipping.\n",
      "Hotel not found... skipping.\n",
      "Hotel not found... skipping.\n",
      "Hotel not found... skipping.\n",
      "Hotel not found... skipping.\n",
      "Hotel not found... skipping.\n",
      "Hotel not found... skipping.\n",
      "Hotel not found... skipping.\n",
      "Hotel not found... skipping.\n",
      "Hotel not found... skipping.\n"
     ]
    }
   ],
   "source": [
    "#Iterate through the DataFrame.\n",
    "for index, row in hotel_df.iterrows():\n",
    "    # Get the latitude and longitude.\n",
    "    lat = row[\"Lat\"]\n",
    "    lng = row[\"Lng\"]\n",
    "\n",
    "    # Add the latitude and longitude to location key for the params dictionary.\n",
    "    params[\"location\"] = f\"{lat},{lng}\"\n",
    "\n",
    "    # Use the search term: \"lodging\" and our latitude and longitude.\n",
    "    base_url = \"https://maps.googleapis.com/maps/api/place/nearbysearch/json\"\n",
    "    # Make request and get the JSON data from the search.\n",
    "    hotels = requests.get(base_url, params=params).json()\n",
    "    try:\n",
    "        hotel_df.loc[index, \"Hotel Name\"] = hotels[\"results\"][0][\"name\"]\n",
    "    except (IndexError):\n",
    "            print(\"Hotel not found... skipping.\")"
   ]
  },
  {
   "cell_type": "code",
   "execution_count": 63,
   "id": "8190c390",
   "metadata": {},
   "outputs": [
    {
     "data": {
      "text/html": [
       "<div>\n",
       "<style scoped>\n",
       "    .dataframe tbody tr th:only-of-type {\n",
       "        vertical-align: middle;\n",
       "    }\n",
       "\n",
       "    .dataframe tbody tr th {\n",
       "        vertical-align: top;\n",
       "    }\n",
       "\n",
       "    .dataframe thead th {\n",
       "        text-align: right;\n",
       "    }\n",
       "</style>\n",
       "<table border=\"1\" class=\"dataframe\">\n",
       "  <thead>\n",
       "    <tr style=\"text-align: right;\">\n",
       "      <th></th>\n",
       "      <th>City</th>\n",
       "      <th>Country</th>\n",
       "      <th>Max Temp</th>\n",
       "      <th>Lat</th>\n",
       "      <th>Lng</th>\n",
       "      <th>Hotel Name</th>\n",
       "    </tr>\n",
       "  </thead>\n",
       "  <tbody>\n",
       "    <tr>\n",
       "      <th>1</th>\n",
       "      <td>Hilo</td>\n",
       "      <td>US</td>\n",
       "      <td>77.61</td>\n",
       "      <td>19.7297</td>\n",
       "      <td>-155.0900</td>\n",
       "      <td>Hilo Hawaiian Hotel</td>\n",
       "    </tr>\n",
       "    <tr>\n",
       "      <th>2</th>\n",
       "      <td>La Asuncion</td>\n",
       "      <td>VE</td>\n",
       "      <td>87.53</td>\n",
       "      <td>11.0333</td>\n",
       "      <td>-63.8628</td>\n",
       "      <td>Colinas de Matasiete</td>\n",
       "    </tr>\n",
       "    <tr>\n",
       "      <th>5</th>\n",
       "      <td>Kapaa</td>\n",
       "      <td>US</td>\n",
       "      <td>78.12</td>\n",
       "      <td>22.0752</td>\n",
       "      <td>-159.3190</td>\n",
       "      <td>Sheraton Kauai Coconut Beach Resort</td>\n",
       "    </tr>\n",
       "    <tr>\n",
       "      <th>11</th>\n",
       "      <td>Mitsamiouli</td>\n",
       "      <td>KM</td>\n",
       "      <td>77.29</td>\n",
       "      <td>-11.3847</td>\n",
       "      <td>43.2844</td>\n",
       "      <td>Foyer ADM</td>\n",
       "    </tr>\n",
       "    <tr>\n",
       "      <th>12</th>\n",
       "      <td>Hami</td>\n",
       "      <td>CN</td>\n",
       "      <td>88.83</td>\n",
       "      <td>42.8000</td>\n",
       "      <td>93.4500</td>\n",
       "      <td>Laoyutang Resort</td>\n",
       "    </tr>\n",
       "    <tr>\n",
       "      <th>13</th>\n",
       "      <td>Jacareacanga</td>\n",
       "      <td>BR</td>\n",
       "      <td>75.51</td>\n",
       "      <td>-6.2222</td>\n",
       "      <td>-57.7528</td>\n",
       "      <td>Casa do Ian😎</td>\n",
       "    </tr>\n",
       "    <tr>\n",
       "      <th>16</th>\n",
       "      <td>Meulaboh</td>\n",
       "      <td>ID</td>\n",
       "      <td>83.26</td>\n",
       "      <td>4.1363</td>\n",
       "      <td>96.1285</td>\n",
       "      <td>Kost Pria</td>\n",
       "    </tr>\n",
       "    <tr>\n",
       "      <th>20</th>\n",
       "      <td>Vaini</td>\n",
       "      <td>TO</td>\n",
       "      <td>75.36</td>\n",
       "      <td>-21.2000</td>\n",
       "      <td>-175.2000</td>\n",
       "      <td>Keleti Beach Resort</td>\n",
       "    </tr>\n",
       "    <tr>\n",
       "      <th>25</th>\n",
       "      <td>Nago</td>\n",
       "      <td>JP</td>\n",
       "      <td>77.45</td>\n",
       "      <td>26.5881</td>\n",
       "      <td>127.9761</td>\n",
       "      <td>Hotel Yugaf Inn Okinawa</td>\n",
       "    </tr>\n",
       "    <tr>\n",
       "      <th>28</th>\n",
       "      <td>Hithadhoo</td>\n",
       "      <td>MV</td>\n",
       "      <td>84.09</td>\n",
       "      <td>-0.6000</td>\n",
       "      <td>73.0833</td>\n",
       "      <td>Scoop Guest House</td>\n",
       "    </tr>\n",
       "  </tbody>\n",
       "</table>\n",
       "</div>"
      ],
      "text/plain": [
       "            City Country  Max Temp      Lat       Lng  \\\n",
       "1           Hilo      US     77.61  19.7297 -155.0900   \n",
       "2    La Asuncion      VE     87.53  11.0333  -63.8628   \n",
       "5          Kapaa      US     78.12  22.0752 -159.3190   \n",
       "11   Mitsamiouli      KM     77.29 -11.3847   43.2844   \n",
       "12          Hami      CN     88.83  42.8000   93.4500   \n",
       "13  Jacareacanga      BR     75.51  -6.2222  -57.7528   \n",
       "16      Meulaboh      ID     83.26   4.1363   96.1285   \n",
       "20         Vaini      TO     75.36 -21.2000 -175.2000   \n",
       "25          Nago      JP     77.45  26.5881  127.9761   \n",
       "28     Hithadhoo      MV     84.09  -0.6000   73.0833   \n",
       "\n",
       "                             Hotel Name  \n",
       "1                   Hilo Hawaiian Hotel  \n",
       "2                  Colinas de Matasiete  \n",
       "5   Sheraton Kauai Coconut Beach Resort  \n",
       "11                            Foyer ADM  \n",
       "12                     Laoyutang Resort  \n",
       "13                         Casa do Ian😎  \n",
       "16                            Kost Pria  \n",
       "20                  Keleti Beach Resort  \n",
       "25              Hotel Yugaf Inn Okinawa  \n",
       "28                    Scoop Guest House  "
      ]
     },
     "execution_count": 63,
     "metadata": {},
     "output_type": "execute_result"
    }
   ],
   "source": [
    "hotel_df.head(10)"
   ]
  },
  {
   "cell_type": "code",
   "execution_count": 64,
   "id": "1b8b9f92",
   "metadata": {},
   "outputs": [
    {
     "data": {
      "application/vnd.jupyter.widget-view+json": {
       "model_id": "36426ad60ac44808aeefc576f40ac5ec",
       "version_major": 2,
       "version_minor": 0
      },
      "text/plain": [
       "Figure(layout=FigureLayout(height='420px'))"
      ]
     },
     "metadata": {},
     "output_type": "display_data"
    }
   ],
   "source": [
    "# Add a heatmap of temperature for the vacation spots.\n",
    "locations = hotel_df[[\"Lat\", \"Lng\"]]\n",
    "max_temp = hotel_df[\"Max Temp\"]\n",
    "fig = gmaps.figure(center=(30.0, 31.0), zoom_level=1.5)\n",
    "heat_layer = gmaps.heatmap_layer(locations, weights=max_temp, dissipating=False,\n",
    "             max_intensity=300, point_radius=4)\n",
    "\n",
    "fig.add_layer(heat_layer)\n",
    "# Call the figure to plot the data.\n",
    "fig"
   ]
  },
  {
   "cell_type": "code",
   "execution_count": 65,
   "id": "3368f65b",
   "metadata": {},
   "outputs": [
    {
     "data": {
      "application/vnd.jupyter.widget-view+json": {
       "model_id": "e322297eace54dc287ec24ba787d6929",
       "version_major": 2,
       "version_minor": 0
      },
      "text/plain": [
       "Figure(layout=FigureLayout(height='420px'))"
      ]
     },
     "metadata": {},
     "output_type": "display_data"
    }
   ],
   "source": [
    "# Add a heatmap of temperature for the vacation spots and marker for each city.\n",
    "locations = hotel_df[[\"Lat\", \"Lng\"]]\n",
    "max_temp = hotel_df[\"Max Temp\"]\n",
    "fig = gmaps.figure(center=(30.0, 31.0), zoom_level=1.5)\n",
    "heat_layer = gmaps.heatmap_layer(locations, weights=max_temp,\n",
    "             dissipating=False, max_intensity=300, point_radius=4)\n",
    "marker_layer = gmaps.marker_layer(locations)\n",
    "fig.add_layer(heat_layer)\n",
    "fig.add_layer(marker_layer)\n",
    "# Call the figure to plot the data.\n",
    "fig"
   ]
  },
  {
   "cell_type": "code",
   "execution_count": 67,
   "id": "9af4f9f1",
   "metadata": {},
   "outputs": [],
   "source": [
    "info_box_template = \"\"\"\n",
    "<dl>\n",
    "<dt>Hotel Name</dt><dd>{Hotel Name}</dd>\n",
    "<dt>City</dt><dd>{City}</dd>\n",
    "<dt>Country</dt><dd>{Country}</dd>\n",
    "<dt>Max Temp</dt><dd>{Max Temp} °F</dd>\n",
    "</dl>\n",
    "\"\"\""
   ]
  },
  {
   "cell_type": "code",
   "execution_count": 68,
   "id": "69628913",
   "metadata": {},
   "outputs": [],
   "source": [
    "# Store the DataFrame Row.\n",
    "hotel_info = [info_box_template.format(**row) for index, row in hotel_df.iterrows()]\n"
   ]
  },
  {
   "cell_type": "code",
   "execution_count": 69,
   "id": "b200c7f2",
   "metadata": {},
   "outputs": [
    {
     "data": {
      "application/vnd.jupyter.widget-view+json": {
       "model_id": "57ff9ed1aeb747a9a09be40f6e4931a9",
       "version_major": 2,
       "version_minor": 0
      },
      "text/plain": [
       "Figure(layout=FigureLayout(height='420px'))"
      ]
     },
     "metadata": {},
     "output_type": "display_data"
    }
   ],
   "source": [
    "# Add a heatmap of temperature for the vacation spots and a pop-up marker for each city.\n",
    "locations = hotel_df[[\"Lat\", \"Lng\"]]\n",
    "max_temp = hotel_df[\"Max Temp\"]\n",
    "fig = gmaps.figure(center=(30.0, 31.0), zoom_level=1.5)\n",
    "heat_layer = gmaps.heatmap_layer(locations, weights=max_temp,dissipating=False,\n",
    "             max_intensity=300, point_radius=4)\n",
    "marker_layer = gmaps.marker_layer(locations, info_box_content=hotel_info)\n",
    "fig.add_layer(heat_layer)\n",
    "fig.add_layer(marker_layer)\n",
    "\n",
    "# Call the figure to plot the data.\n",
    "fig"
   ]
  },
  {
   "cell_type": "code",
   "execution_count": null,
   "id": "555417ca",
   "metadata": {},
   "outputs": [],
   "source": []
  }
 ],
 "metadata": {
  "kernelspec": {
   "display_name": "Python 3 (ipykernel)",
   "language": "python",
   "name": "python3"
  },
  "language_info": {
   "codemirror_mode": {
    "name": "ipython",
    "version": 3
   },
   "file_extension": ".py",
   "mimetype": "text/x-python",
   "name": "python",
   "nbconvert_exporter": "python",
   "pygments_lexer": "ipython3",
   "version": "3.7.13"
  }
 },
 "nbformat": 4,
 "nbformat_minor": 5
}
